{
 "cells": [
  {
   "cell_type": "markdown",
   "metadata": {
    "id": "nVkniZ5Yuznw"
   },
   "source": [
    "# **Anime Recommender System**"
   ]
  },
  {
   "cell_type": "code",
   "execution_count": null,
   "metadata": {
    "id": "k3BeHREV5hLL"
   },
   "outputs": [],
   "source": [
    "#pip install surprise"
   ]
  },
  {
   "cell_type": "markdown",
   "metadata": {
    "id": "wizKQ08Ku5yV"
   },
   "source": [
    "### **Importing Dependecies**"
   ]
  },
  {
   "cell_type": "code",
   "execution_count": null,
   "metadata": {
    "id": "t4N-l3OIuzGP"
   },
   "outputs": [],
   "source": [
    "import pandas as pd\n",
    "import numpy as np\n",
    "\n",
    "from sklearn.feature_extraction.text import TfidfVectorizer\n",
    "from sklearn.metrics.pairwise import cosine_similarity\n",
    "\n",
    "from surprise import Reader, Dataset, "
   ]
  },
  {
   "cell_type": "markdown",
   "source": [],
   "metadata": {
    "id": "Syhl2FaSrLdJ"
   }
  },
  {
   "cell_type": "markdown",
   "metadata": {
    "id": "slsHpw9avRz5"
   },
   "source": [
    "### **Loading Data**"
   ]
  },
  {
   "cell_type": "code",
   "execution_count": null,
   "metadata": {
    "id": "mXie78IIuzCI"
   },
   "outputs": [],
   "source": [
    "# Data 1\n",
    "\n",
    "anime_interactions_df = pd.read_csv(\"/content/rating.csv\")\n",
    "\n",
    "data = Dataset.load_from_df(anime_interactions_df[['user_id', 'anime_id', 'rating']], Reader)"
   ]
  },
  {
   "cell_type": "code",
   "execution_count": null,
   "metadata": {
    "id": "wiZdVnkWuzA8"
   },
   "outputs": [],
   "source": [
    "import pandas as pd\n",
    "\n",
    "file_path = '/content/main_pred.csv'\n",
    "\n",
    "columns_to_use = ['anime_id', 'name', 'genre', 'type', 'episodes', 'rating_x']\n",
    "\n",
    "anime_data = pd.read_csv(file_path, usecols=columns_to_use)\n",
    "\n"
   ]
  },
  {
   "cell_type": "code",
   "execution_count": null,
   "metadata": {
    "colab": {
     "base_uri": "https://localhost:8080/",
     "height": 223
    },
    "id": "HfqThfmq4Bnv",
    "outputId": "1d901df9-5c3c-48cf-cb7f-72a5b2c009f9"
   },
   "outputs": [
    {
     "output_type": "execute_result",
     "data": {
      "text/plain": [
       "   anime_id                              name  \\\n",
       "0     32281                    Kimi no Na wa.   \n",
       "1      5114  Fullmetal Alchemist: Brotherhood   \n",
       "2     28977                          Gintama°   \n",
       "3      9253                       Steins;Gate   \n",
       "4      9969                     Gintama&#039;   \n",
       "\n",
       "                                               genre   type  episodes  \\\n",
       "0                  drama,romance,school,supernatural  Movie         1   \n",
       "1  action,adventure,drama,fantasy,magic,military,...     TV        64   \n",
       "2  action,comedy,historical,parody,samurai,sci-fi...     TV        51   \n",
       "3                                    sci-fi,thriller     TV        24   \n",
       "4  action,comedy,historical,parody,samurai,sci-fi...     TV        51   \n",
       "\n",
       "   rating_x  \n",
       "0      9.37  \n",
       "1      9.26  \n",
       "2      9.25  \n",
       "3      9.17  \n",
       "4      9.16  "
      ],
      "text/html": [
       "\n",
       "  <div id=\"df-95ef8a61-35ee-4b84-9dfd-7b3e2b0d5304\" class=\"colab-df-container\">\n",
       "    <div>\n",
       "<style scoped>\n",
       "    .dataframe tbody tr th:only-of-type {\n",
       "        vertical-align: middle;\n",
       "    }\n",
       "\n",
       "    .dataframe tbody tr th {\n",
       "        vertical-align: top;\n",
       "    }\n",
       "\n",
       "    .dataframe thead th {\n",
       "        text-align: right;\n",
       "    }\n",
       "</style>\n",
       "<table border=\"1\" class=\"dataframe\">\n",
       "  <thead>\n",
       "    <tr style=\"text-align: right;\">\n",
       "      <th></th>\n",
       "      <th>anime_id</th>\n",
       "      <th>name</th>\n",
       "      <th>genre</th>\n",
       "      <th>type</th>\n",
       "      <th>episodes</th>\n",
       "      <th>rating_x</th>\n",
       "    </tr>\n",
       "  </thead>\n",
       "  <tbody>\n",
       "    <tr>\n",
       "      <th>0</th>\n",
       "      <td>32281</td>\n",
       "      <td>Kimi no Na wa.</td>\n",
       "      <td>drama,romance,school,supernatural</td>\n",
       "      <td>Movie</td>\n",
       "      <td>1</td>\n",
       "      <td>9.37</td>\n",
       "    </tr>\n",
       "    <tr>\n",
       "      <th>1</th>\n",
       "      <td>5114</td>\n",
       "      <td>Fullmetal Alchemist: Brotherhood</td>\n",
       "      <td>action,adventure,drama,fantasy,magic,military,...</td>\n",
       "      <td>TV</td>\n",
       "      <td>64</td>\n",
       "      <td>9.26</td>\n",
       "    </tr>\n",
       "    <tr>\n",
       "      <th>2</th>\n",
       "      <td>28977</td>\n",
       "      <td>Gintama°</td>\n",
       "      <td>action,comedy,historical,parody,samurai,sci-fi...</td>\n",
       "      <td>TV</td>\n",
       "      <td>51</td>\n",
       "      <td>9.25</td>\n",
       "    </tr>\n",
       "    <tr>\n",
       "      <th>3</th>\n",
       "      <td>9253</td>\n",
       "      <td>Steins;Gate</td>\n",
       "      <td>sci-fi,thriller</td>\n",
       "      <td>TV</td>\n",
       "      <td>24</td>\n",
       "      <td>9.17</td>\n",
       "    </tr>\n",
       "    <tr>\n",
       "      <th>4</th>\n",
       "      <td>9969</td>\n",
       "      <td>Gintama&amp;#039;</td>\n",
       "      <td>action,comedy,historical,parody,samurai,sci-fi...</td>\n",
       "      <td>TV</td>\n",
       "      <td>51</td>\n",
       "      <td>9.16</td>\n",
       "    </tr>\n",
       "  </tbody>\n",
       "</table>\n",
       "</div>\n",
       "    <div class=\"colab-df-buttons\">\n",
       "\n",
       "  <div class=\"colab-df-container\">\n",
       "    <button class=\"colab-df-convert\" onclick=\"convertToInteractive('df-95ef8a61-35ee-4b84-9dfd-7b3e2b0d5304')\"\n",
       "            title=\"Convert this dataframe to an interactive table.\"\n",
       "            style=\"display:none;\">\n",
       "\n",
       "  <svg xmlns=\"http://www.w3.org/2000/svg\" height=\"24px\" viewBox=\"0 -960 960 960\">\n",
       "    <path d=\"M120-120v-720h720v720H120Zm60-500h600v-160H180v160Zm220 220h160v-160H400v160Zm0 220h160v-160H400v160ZM180-400h160v-160H180v160Zm440 0h160v-160H620v160ZM180-180h160v-160H180v160Zm440 0h160v-160H620v160Z\"/>\n",
       "  </svg>\n",
       "    </button>\n",
       "\n",
       "  <style>\n",
       "    .colab-df-container {\n",
       "      display:flex;\n",
       "      gap: 12px;\n",
       "    }\n",
       "\n",
       "    .colab-df-convert {\n",
       "      background-color: #E8F0FE;\n",
       "      border: none;\n",
       "      border-radius: 50%;\n",
       "      cursor: pointer;\n",
       "      display: none;\n",
       "      fill: #1967D2;\n",
       "      height: 32px;\n",
       "      padding: 0 0 0 0;\n",
       "      width: 32px;\n",
       "    }\n",
       "\n",
       "    .colab-df-convert:hover {\n",
       "      background-color: #E2EBFA;\n",
       "      box-shadow: 0px 1px 2px rgba(60, 64, 67, 0.3), 0px 1px 3px 1px rgba(60, 64, 67, 0.15);\n",
       "      fill: #174EA6;\n",
       "    }\n",
       "\n",
       "    .colab-df-buttons div {\n",
       "      margin-bottom: 4px;\n",
       "    }\n",
       "\n",
       "    [theme=dark] .colab-df-convert {\n",
       "      background-color: #3B4455;\n",
       "      fill: #D2E3FC;\n",
       "    }\n",
       "\n",
       "    [theme=dark] .colab-df-convert:hover {\n",
       "      background-color: #434B5C;\n",
       "      box-shadow: 0px 1px 3px 1px rgba(0, 0, 0, 0.15);\n",
       "      filter: drop-shadow(0px 1px 2px rgba(0, 0, 0, 0.3));\n",
       "      fill: #FFFFFF;\n",
       "    }\n",
       "  </style>\n",
       "\n",
       "    <script>\n",
       "      const buttonEl =\n",
       "        document.querySelector('#df-95ef8a61-35ee-4b84-9dfd-7b3e2b0d5304 button.colab-df-convert');\n",
       "      buttonEl.style.display =\n",
       "        google.colab.kernel.accessAllowed ? 'block' : 'none';\n",
       "\n",
       "      async function convertToInteractive(key) {\n",
       "        const element = document.querySelector('#df-95ef8a61-35ee-4b84-9dfd-7b3e2b0d5304');\n",
       "        const dataTable =\n",
       "          await google.colab.kernel.invokeFunction('convertToInteractive',\n",
       "                                                    [key], {});\n",
       "        if (!dataTable) return;\n",
       "\n",
       "        const docLinkHtml = 'Like what you see? Visit the ' +\n",
       "          '<a target=\"_blank\" href=https://colab.research.google.com/notebooks/data_table.ipynb>data table notebook</a>'\n",
       "          + ' to learn more about interactive tables.';\n",
       "        element.innerHTML = '';\n",
       "        dataTable['output_type'] = 'display_data';\n",
       "        await google.colab.output.renderOutput(dataTable, element);\n",
       "        const docLink = document.createElement('div');\n",
       "        docLink.innerHTML = docLinkHtml;\n",
       "        element.appendChild(docLink);\n",
       "      }\n",
       "    </script>\n",
       "  </div>\n",
       "\n",
       "\n",
       "<div id=\"df-2e1e8d37-0f8a-4a32-bfd4-f16773cfd307\">\n",
       "  <button class=\"colab-df-quickchart\" onclick=\"quickchart('df-2e1e8d37-0f8a-4a32-bfd4-f16773cfd307')\"\n",
       "            title=\"Suggest charts\"\n",
       "            style=\"display:none;\">\n",
       "\n",
       "<svg xmlns=\"http://www.w3.org/2000/svg\" height=\"24px\"viewBox=\"0 0 24 24\"\n",
       "     width=\"24px\">\n",
       "    <g>\n",
       "        <path d=\"M19 3H5c-1.1 0-2 .9-2 2v14c0 1.1.9 2 2 2h14c1.1 0 2-.9 2-2V5c0-1.1-.9-2-2-2zM9 17H7v-7h2v7zm4 0h-2V7h2v10zm4 0h-2v-4h2v4z\"/>\n",
       "    </g>\n",
       "</svg>\n",
       "  </button>\n",
       "\n",
       "<style>\n",
       "  .colab-df-quickchart {\n",
       "      --bg-color: #E8F0FE;\n",
       "      --fill-color: #1967D2;\n",
       "      --hover-bg-color: #E2EBFA;\n",
       "      --hover-fill-color: #174EA6;\n",
       "      --disabled-fill-color: #AAA;\n",
       "      --disabled-bg-color: #DDD;\n",
       "  }\n",
       "\n",
       "  [theme=dark] .colab-df-quickchart {\n",
       "      --bg-color: #3B4455;\n",
       "      --fill-color: #D2E3FC;\n",
       "      --hover-bg-color: #434B5C;\n",
       "      --hover-fill-color: #FFFFFF;\n",
       "      --disabled-bg-color: #3B4455;\n",
       "      --disabled-fill-color: #666;\n",
       "  }\n",
       "\n",
       "  .colab-df-quickchart {\n",
       "    background-color: var(--bg-color);\n",
       "    border: none;\n",
       "    border-radius: 50%;\n",
       "    cursor: pointer;\n",
       "    display: none;\n",
       "    fill: var(--fill-color);\n",
       "    height: 32px;\n",
       "    padding: 0;\n",
       "    width: 32px;\n",
       "  }\n",
       "\n",
       "  .colab-df-quickchart:hover {\n",
       "    background-color: var(--hover-bg-color);\n",
       "    box-shadow: 0 1px 2px rgba(60, 64, 67, 0.3), 0 1px 3px 1px rgba(60, 64, 67, 0.15);\n",
       "    fill: var(--button-hover-fill-color);\n",
       "  }\n",
       "\n",
       "  .colab-df-quickchart-complete:disabled,\n",
       "  .colab-df-quickchart-complete:disabled:hover {\n",
       "    background-color: var(--disabled-bg-color);\n",
       "    fill: var(--disabled-fill-color);\n",
       "    box-shadow: none;\n",
       "  }\n",
       "\n",
       "  .colab-df-spinner {\n",
       "    border: 2px solid var(--fill-color);\n",
       "    border-color: transparent;\n",
       "    border-bottom-color: var(--fill-color);\n",
       "    animation:\n",
       "      spin 1s steps(1) infinite;\n",
       "  }\n",
       "\n",
       "  @keyframes spin {\n",
       "    0% {\n",
       "      border-color: transparent;\n",
       "      border-bottom-color: var(--fill-color);\n",
       "      border-left-color: var(--fill-color);\n",
       "    }\n",
       "    20% {\n",
       "      border-color: transparent;\n",
       "      border-left-color: var(--fill-color);\n",
       "      border-top-color: var(--fill-color);\n",
       "    }\n",
       "    30% {\n",
       "      border-color: transparent;\n",
       "      border-left-color: var(--fill-color);\n",
       "      border-top-color: var(--fill-color);\n",
       "      border-right-color: var(--fill-color);\n",
       "    }\n",
       "    40% {\n",
       "      border-color: transparent;\n",
       "      border-right-color: var(--fill-color);\n",
       "      border-top-color: var(--fill-color);\n",
       "    }\n",
       "    60% {\n",
       "      border-color: transparent;\n",
       "      border-right-color: var(--fill-color);\n",
       "    }\n",
       "    80% {\n",
       "      border-color: transparent;\n",
       "      border-right-color: var(--fill-color);\n",
       "      border-bottom-color: var(--fill-color);\n",
       "    }\n",
       "    90% {\n",
       "      border-color: transparent;\n",
       "      border-bottom-color: var(--fill-color);\n",
       "    }\n",
       "  }\n",
       "</style>\n",
       "\n",
       "  <script>\n",
       "    async function quickchart(key) {\n",
       "      const quickchartButtonEl =\n",
       "        document.querySelector('#' + key + ' button');\n",
       "      quickchartButtonEl.disabled = true;  // To prevent multiple clicks.\n",
       "      quickchartButtonEl.classList.add('colab-df-spinner');\n",
       "      try {\n",
       "        const charts = await google.colab.kernel.invokeFunction(\n",
       "            'suggestCharts', [key], {});\n",
       "      } catch (error) {\n",
       "        console.error('Error during call to suggestCharts:', error);\n",
       "      }\n",
       "      quickchartButtonEl.classList.remove('colab-df-spinner');\n",
       "      quickchartButtonEl.classList.add('colab-df-quickchart-complete');\n",
       "    }\n",
       "    (() => {\n",
       "      let quickchartButtonEl =\n",
       "        document.querySelector('#df-2e1e8d37-0f8a-4a32-bfd4-f16773cfd307 button');\n",
       "      quickchartButtonEl.style.display =\n",
       "        google.colab.kernel.accessAllowed ? 'block' : 'none';\n",
       "    })();\n",
       "  </script>\n",
       "</div>\n",
       "\n",
       "    </div>\n",
       "  </div>\n"
      ]
     },
     "metadata": {},
     "execution_count": 22
    }
   ],
   "source": [
    "anime_data.head()"
   ]
  },
  {
   "cell_type": "code",
   "execution_count": null,
   "metadata": {
    "colab": {
     "base_uri": "https://localhost:8080/"
    },
    "id": "oReWdOWX94kj",
    "outputId": "3cdab04c-25ee-4468-db3f-3449ef4a60a7"
   },
   "outputs": [
    {
     "output_type": "stream",
     "name": "stdout",
     "text": [
      "comedy           2475\n",
      "action           1714\n",
      "adventure        1199\n",
      "fantasy          1168\n",
      "sci-fi           1143\n",
      "drama            1129\n",
      "shounen          1127\n",
      "romance          1091\n",
      "school            827\n",
      "supernatural      713\n",
      "sliceoflife       650\n",
      "mecha             509\n",
      "ecchi             493\n",
      "magic             484\n",
      "hentai            371\n",
      "shoujo            359\n",
      "seinen            357\n",
      "mystery           347\n",
      "historical        312\n",
      "superpower        311\n",
      "military          278\n",
      "sports            277\n",
      "harem             270\n",
      "kids              263\n",
      "music             234\n",
      "space             207\n",
      "horror            203\n",
      "parody            196\n",
      "martialarts       163\n",
      "psychological     161\n",
      "demons            158\n",
      "police            127\n",
      "game              109\n",
      "samurai            84\n",
      "vampire            77\n",
      "thriller           70\n",
      "shoujoai           49\n",
      "shounenai          48\n",
      "josei              43\n",
      "dementia           33\n",
      "cars               33\n",
      "yaoi               32\n",
      "yuri               17\n",
      "Name: genre, dtype: int64\n"
     ]
    }
   ],
   "source": [
    "anime_data['genre'] = anime_data['genre'].str.split(',')\n",
    "\n",
    "anime_data_expanded = anime_data.explode('genre')\n",
    "\n",
    "genre_counts = anime_data_expanded['genre'].value_counts()\n",
    "\n",
    "print(genre_counts)"
   ]
  },
  {
   "cell_type": "code",
   "execution_count": null,
   "metadata": {
    "colab": {
     "base_uri": "https://localhost:8080/"
    },
    "id": "lVxbXvRh9CUq",
    "outputId": "36f28c3f-33d5-444f-fce3-3ee319b2b4d6"
   },
   "outputs": [
    {
     "output_type": "execute_result",
     "data": {
      "text/plain": [
       "[hentai]                                                  266\n",
       "[comedy]                                                  132\n",
       "[music]                                                    61\n",
       "[comedy, sliceoflife]                                      59\n",
       "[comedy, school, sliceoflife]                              51\n",
       "                                                         ... \n",
       "[action, kids, mecha, sports]                               1\n",
       "[action, horror, supernatural, vampire]                     1\n",
       "[comedy, ecchi, harem, romance, school, sci-fi]             1\n",
       "[comedy, drama, fantasy, mystery, shounen, superpower]      1\n",
       "[action, horror, sci-fi, supernatural, vampire, yaoi]       1\n",
       "Name: genre, Length: 2299, dtype: int64"
      ]
     },
     "metadata": {},
     "execution_count": 24
    }
   ],
   "source": [
    "anime_data['genre'].value_counts()"
   ]
  },
  {
   "cell_type": "markdown",
   "metadata": {
    "id": "IPPEJE3uwc7Z"
   },
   "source": [
    "### **Functions**"
   ]
  },
  {
   "cell_type": "code",
   "execution_count": null,
   "metadata": {
    "id": "0vQA43aauzAA"
   },
   "outputs": [],
   "source": [
    "def get_genre():\n",
    "    # Prompt user for desired genre\n",
    "    genre = input(\"Enter your preferred genre: \")\n",
    "    return genre\n",
    "\n",
    "def get_type():\n",
    "    # Provide options for anime type\n",
    "    type_options = [\"Movie\", 'TV', 'OVA', 'Special', 'Movie' ,'ONA', 'Music' ]\n",
    "\n",
    "    # Prompt user for desired type\n",
    "    while True:\n",
    "        type_choice = input(\"Choose your preferred type: \")\n",
    "\n",
    "        if type_choice in type_options:\n",
    "            return type_choice\n",
    "        else:\n",
    "            print(\"Invalid choice. Please select a valid option.\")\n",
    "\n",
    "def get_duration():\n",
    "    # Provide options for anime duration\n",
    "    duration_options = [\"Short\", \"Medium\", \"Long\"]\n",
    "\n",
    "    # Prompt user for desired duration\n",
    "    while True:\n",
    "        duration_choice = input(\"Choose your preferred duration (Short/Medium/Long): \")\n",
    "\n",
    "        if duration_choice in duration_options:\n",
    "            return duration_choice\n",
    "        else:\n",
    "            print(\"Invalid choice. Please select a valid option.\")\n"
   ]
  },
  {
   "cell_type": "code",
   "execution_count": null,
   "metadata": {
    "id": "2ANjfRIT9frW",
    "colab": {
     "base_uri": "https://localhost:8080/"
    },
    "outputId": "5aefe3b8-f2a1-41f2-f6b7-2316faa5fc99"
   },
   "outputs": [
    {
     "name": "stdout",
     "output_type": "stream",
     "text": [
      "Enter your preferred genre: game,psychological,horror,mystery\n",
      "Choose your preferred type: Movie\n",
      "Choose your preferred duration (Short/Medium/Long): Short\n"
     ]
    }
   ],
   "source": [
    "\n",
    "user_genre = get_genre()\n",
    "user_type = get_type()\n",
    "user_duration = get_duration()\n"
   ]
  },
  {
   "cell_type": "markdown",
   "metadata": {
    "id": "qw4uELBB7WXF"
   },
   "source": [
    "### **Data preprocessing**"
   ]
  },
  {
   "cell_type": "code",
   "execution_count": null,
   "metadata": {
    "id": "Qv1LnJ9Duy4Z"
   },
   "outputs": [],
   "source": [
    "tfidf_vectorizer = TfidfVectorizer()\n",
    "anime_data[\"genre_vector\"] = list(tfidf_vectorizer.fit_transform(anime_data[\"genre\"].astype(str)).toarray())\n"
   ]
  },
  {
   "cell_type": "code",
   "execution_count": null,
   "metadata": {
    "id": "EI2hgMI0uy3C"
   },
   "outputs": [],
   "source": [
    "user_genre_vector = tfidf_vectorizer.transform([user_genre]).toarray()\n",
    "\n",
    "filtered_anime = anime_data[anime_data[\"type\"] == user_type]\n"
   ]
  },
  {
   "cell_type": "markdown",
   "metadata": {
    "id": "zvYWJssV8o4f"
   },
   "source": [
    "### **Collaborative Filtering (CF)**"
   ]
  },
  {
   "cell_type": "code",
   "execution_count": null,
   "metadata": {
    "id": "B0nTekEUuy1t"
   },
   "outputs": [],
   "source": [
    "reader = Reader(rating_scale=(1, 5))\n",
    "data = Dataset.load_from_df(anime_interactions_df[['user_id', 'anime_id', 'rating']], reader)"
   ]
  },
  {
   "cell_type": "markdown",
   "metadata": {
    "id": "rfhxTMqk80OA"
   },
   "source": [
    "### **Model Training**"
   ]
  },
  {
   "cell_type": "code",
   "execution_count": null,
   "metadata": {
    "id": "7x52yAycuy0R"
   },
   "outputs": [],
   "source": [
    "#model = SVD(n_factors=100)\n",
    "#model.fit(data.build_full_trainset())"
   ]
  },
  {
   "cell_type": "code",
   "execution_count": null,
   "metadata": {
    "id": "XYKVpd2xuyx-"
   },
   "outputs": [],
   "source": [
    "cf_predictions = []\n",
    "\n",
    "for anime_id in filtered_anime[\"anime_id\"]:\n",
    "    prediction = model.predict(uid=1, iid=anime_id)\n",
    "    cf_predictions.append(prediction)"
   ]
  },
  {
   "cell_type": "code",
   "execution_count": null,
   "metadata": {
    "id": "t54IViEeuywG"
   },
   "outputs": [],
   "source": [
    "genre_similarity = cosine_similarity(user_genre_vector, list(filtered_anime[\"genre_vector\"]))\n"
   ]
  },
  {
   "cell_type": "code",
   "execution_count": null,
   "metadata": {
    "colab": {
     "base_uri": "https://localhost:8080/"
    },
    "id": "IvSUqh0Euyuz",
    "outputId": "b020d5fa-c4e8-4ebe-da5d-e40f8c71e26b"
   },
   "outputs": [
    {
     "output_type": "stream",
     "name": "stderr",
     "text": [
      "<ipython-input-33-1483428a1c6d>:3: SettingWithCopyWarning: \n",
      "A value is trying to be set on a copy of a slice from a DataFrame.\n",
      "Try using .loc[row_indexer,col_indexer] = value instead\n",
      "\n",
      "See the caveats in the documentation: https://pandas.pydata.org/pandas-docs/stable/user_guide/indexing.html#returning-a-view-versus-a-copy\n",
      "  filtered_anime[\"hybrid_scores\"] = hybrid_scores\n"
     ]
    }
   ],
   "source": [
    "hybrid_scores = genre_similarity.flatten() + [prediction.est for prediction in cf_predictions]\n",
    "\n",
    "filtered_anime[\"hybrid_scores\"] = hybrid_scores\n"
   ]
  },
  {
   "cell_type": "markdown",
   "metadata": {
    "id": "a_nNFwrH9Mei"
   },
   "source": [
    "### **Recommendation**"
   ]
  },
  {
   "cell_type": "markdown",
   "source": [],
   "metadata": {
    "id": "paXJ6JsutO97"
   }
  },
  {
   "cell_type": "code",
   "execution_count": null,
   "metadata": {
    "colab": {
     "base_uri": "https://localhost:8080/"
    },
    "id": "0pW_jCHl6rkG",
    "outputId": "cb16185f-3251-4230-9b80-c708df9f2500"
   },
   "outputs": [
    {
     "output_type": "stream",
     "name": "stdout",
     "text": [
      "Recommended Anime:\n",
      "1. Ookami Kodomo no Ame to Yuki\n",
      "2. Suzumiya Haruhi no Shoushitsu\n",
      "3. Neon Genesis Evangelion: The End of Evangelion\n",
      "4. Acchi Kocchi\n",
      "5. Accel World: Infinite∞Burst\n"
     ]
    }
   ],
   "source": [
    "top_k = 5\n",
    "recommended_anime = filtered_anime.sort_values(by=\"hybrid_scores\", ascending=False).head(top_k)\n",
    "\n",
    "# Print recommendations\n",
    "print(\"Recommended Anime:\")\n",
    "for i in range(len(recommended_anime)):\n",
    "    print(f\"{i+1}. {recommended_anime.iloc[i]['name']}\")"
   ]
  },
  {
   "cell_type": "code",
   "execution_count": null,
   "metadata": {
    "id": "qsZKZmnc9S3C"
   },
   "outputs": [],
   "source": []
  }
 ],
 "metadata": {
  "colab": {
   "provenance": []
  },
  "kernelspec": {
   "display_name": "Python 3",
   "name": "python3"
  },
  "language_info": {
   "name": "python"
  }
 },
 "nbformat": 4,
 "nbformat_minor": 0
}
